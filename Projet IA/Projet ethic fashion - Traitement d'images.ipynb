{
 "cells": [
  {
   "cell_type": "markdown",
   "id": "eb77a59b",
   "metadata": {},
   "source": [
    "# Projet IA: Proposer un modèle qui, à partir de l'image du vêtement, peut déterminer la présence ou non d'une matière polluante"
   ]
  },
  {
   "cell_type": "markdown",
   "id": "f80b2790",
   "metadata": {},
   "source": [
    "# Modèle N°1"
   ]
  },
  {
   "cell_type": "markdown",
   "id": "2bc53148",
   "metadata": {},
   "source": [
    "Pour une question de capacité d'ordinateur, le dataset initial a été séparé de façon aléatoire et est composé de 2143 images"
   ]
  },
  {
   "cell_type": "markdown",
   "id": "c9b5c661",
   "metadata": {},
   "source": [
    "## Librairies"
   ]
  },
  {
   "cell_type": "code",
   "execution_count": 1,
   "id": "63cc700d",
   "metadata": {},
   "outputs": [],
   "source": [
    "import cv2\n",
    "import os\n",
    "import xml.etree.ElementTree as ET\n",
    "from PIL import Image"
   ]
  },
  {
   "cell_type": "code",
   "execution_count": 2,
   "id": "5d8f3aa0",
   "metadata": {},
   "outputs": [],
   "source": [
    "import pandas as pd \n",
    "import numpy as np\n",
    "import matplotlib.pyplot as plt"
   ]
  },
  {
   "cell_type": "code",
   "execution_count": 3,
   "id": "344007cb",
   "metadata": {},
   "outputs": [],
   "source": [
    "import torch\n",
    "import torch.nn as nn\n",
    "import torch.optim as optim\n",
    "import torchvision.transforms as transforms\n",
    "import torchvision.datasets as datasets"
   ]
  },
  {
   "cell_type": "code",
   "execution_count": 4,
   "id": "7827f1b4",
   "metadata": {},
   "outputs": [],
   "source": [
    "from torch.nn import functional as F"
   ]
  },
  {
   "cell_type": "code",
   "execution_count": 5,
   "id": "1f1b40d6",
   "metadata": {},
   "outputs": [],
   "source": [
    "from torch.utils.data import Dataset\n",
    "from torchvision.transforms import ToTensor\n",
    "from torch.utils.data import DataLoader, Dataset"
   ]
  },
  {
   "cell_type": "code",
   "execution_count": 6,
   "id": "a4e18d67",
   "metadata": {},
   "outputs": [],
   "source": [
    "from torch.utils.data import DataLoader, TensorDataset\n",
    "from sklearn.model_selection import train_test_split"
   ]
  },
  {
   "cell_type": "markdown",
   "id": "80054d91",
   "metadata": {},
   "source": [
    "## Importation image + filenamne "
   ]
  },
  {
   "cell_type": "code",
   "execution_count": 7,
   "id": "34d68193",
   "metadata": {},
   "outputs": [],
   "source": [
    "folder_path = \"/Users/jade/Desktop/Cours_M2 S2/projet IA/untitled folder 2/images\""
   ]
  },
  {
   "cell_type": "code",
   "execution_count": 8,
   "id": "cdb92207",
   "metadata": {},
   "outputs": [],
   "source": [
    "# Initialisation d'une liste vide pour stocker les images\n",
    "image_train1 = []\n"
   ]
  },
  {
   "cell_type": "code",
   "execution_count": 9,
   "id": "6108b3a5",
   "metadata": {},
   "outputs": [],
   "source": [
    "# Boucle sur tous les fichiers dans le dossier\n",
    "for filename in os.listdir(folder_path):\n",
    "    # Vérifie si le fichier est un fichier\n",
    "    if os.path.isfile(os.path.join(folder_path, filename)) and filename.endswith(\".png\") :\n",
    "        # Charge l'image et l'ajoute à la liste\n",
    "        img = cv2.imread(os.path.join(folder_path, filename))\n",
    "        image_train1.append((filename, img))\n",
    "        "
   ]
  },
  {
   "cell_type": "code",
   "execution_count": 10,
   "id": "ee61d892",
   "metadata": {},
   "outputs": [],
   "source": [
    "for filename, img in image_train1:\n",
    "    # Convertit l'image en RGB car OpenCV utilise BGR par défaut\n",
    "    img_rgb = cv2.cvtColor(img, cv2.COLOR_BGR2RGB)\n",
    "    \n",
    "    # Affiche l'image\n",
    "    #plt.imshow(img_rgb)\n",
    "   # plt.title(filename)\n",
    "   # plt.show()"
   ]
  },
  {
   "cell_type": "code",
   "execution_count": 11,
   "id": "25b060f0",
   "metadata": {},
   "outputs": [
    {
     "name": "stdout",
     "output_type": "stream",
     "text": [
      "Le nombre d'images est de 2143, ce qui correspond à notre dataset dans son intégralité \n"
     ]
    }
   ],
   "source": [
    "# Affiche le nombre d'images dans la liste\n",
    "if len(image_train1) == 2143 :\n",
    "    print(f\"Le nombre d'images est de {len(image_train1)}, ce qui correspond à notre dataset dans son intégralité \")\n",
    "elif len(image_train1) < 2143:\n",
    "    print(f\"Le nombre d'images est de {len(image_train1)}, toutes les images ne sont pas intégrées\")\n",
    "else :\n",
    "    print(f\"Le nombre d'images est de {len(image_train1)}, trop d'images ont été intégrées\")"
   ]
  },
  {
   "cell_type": "code",
   "execution_count": 12,
   "id": "a55c5574",
   "metadata": {},
   "outputs": [],
   "source": [
    "# Affiche le nom de chaque image dans la liste\n",
    "#for filename, img in image_train1:\n",
    "    #print()"
   ]
  },
  {
   "cell_type": "code",
   "execution_count": 13,
   "id": "4ff01321",
   "metadata": {},
   "outputs": [],
   "source": [
    "image_train = []\n",
    "\n",
    "for filename, img in image_train1:\n",
    "    newlargeur = 224\n",
    "    newhauteur = 224\n",
    "    img_resized = cv2.resize(img, (newlargeur, newhauteur))\n",
    "    image_train.append((filename, img_resized))"
   ]
  },
  {
   "cell_type": "code",
   "execution_count": 14,
   "id": "db8bef18",
   "metadata": {},
   "outputs": [
    {
     "name": "stdout",
     "output_type": "stream",
     "text": [
      "2143\n"
     ]
    }
   ],
   "source": [
    "print(len(image_train))"
   ]
  },
  {
   "cell_type": "code",
   "execution_count": 15,
   "id": "286f818f",
   "metadata": {
    "scrolled": true
   },
   "outputs": [],
   "source": [
    "#for i in image_train:\n",
    "    #filename, img = i\n",
    "    #print(filename + str(img.shape))"
   ]
  },
  {
   "cell_type": "markdown",
   "id": "f14c1a96",
   "metadata": {},
   "source": [
    "# Image_train exctraction uniquement nom"
   ]
  },
  {
   "cell_type": "code",
   "execution_count": 16,
   "id": "28a9d2b4",
   "metadata": {},
   "outputs": [],
   "source": [
    "# Initialisation d'une liste vide pour stocker les images\n",
    "image_nom= []\n"
   ]
  },
  {
   "cell_type": "code",
   "execution_count": 17,
   "id": "43850b75",
   "metadata": {},
   "outputs": [],
   "source": [
    "# Boucle sur tous les fichiers dans le dossier\n",
    "for filename in os.listdir(folder_path):\n",
    "    # Vérifie si le fichier est un fichier\n",
    "    if os.path.isfile(os.path.join(folder_path, filename)) and filename.endswith(\".png\") :\n",
    "        # Charge l'image et l'ajoute à la liste\n",
    "        img = cv2.imread(os.path.join(folder_path, filename))\n",
    "        image_nom.append((filename))        "
   ]
  },
  {
   "cell_type": "code",
   "execution_count": 18,
   "id": "7e926af6",
   "metadata": {},
   "outputs": [
    {
     "name": "stdout",
     "output_type": "stream",
     "text": [
      "2143\n"
     ]
    }
   ],
   "source": [
    "print(len(image_nom))"
   ]
  },
  {
   "cell_type": "markdown",
   "id": "926877e3",
   "metadata": {},
   "source": [
    "# Ajout matière polluante"
   ]
  },
  {
   "cell_type": "code",
   "execution_count": 19,
   "id": "84559bb3",
   "metadata": {},
   "outputs": [],
   "source": [
    "data = pd.read_csv(\"sales.csv\")"
   ]
  },
  {
   "cell_type": "code",
   "execution_count": 20,
   "id": "a50c5855",
   "metadata": {},
   "outputs": [
    {
     "data": {
      "text/html": [
       "<div>\n",
       "<style scoped>\n",
       "    .dataframe tbody tr th:only-of-type {\n",
       "        vertical-align: middle;\n",
       "    }\n",
       "\n",
       "    .dataframe tbody tr th {\n",
       "        vertical-align: top;\n",
       "    }\n",
       "\n",
       "    .dataframe thead th {\n",
       "        text-align: right;\n",
       "    }\n",
       "</style>\n",
       "<table border=\"1\" class=\"dataframe\">\n",
       "  <thead>\n",
       "    <tr style=\"text-align: right;\">\n",
       "      <th></th>\n",
       "      <th>Unnamed: 0</th>\n",
       "      <th>external_code</th>\n",
       "      <th>retail</th>\n",
       "      <th>season</th>\n",
       "      <th>category</th>\n",
       "      <th>color</th>\n",
       "      <th>image_path</th>\n",
       "      <th>fabric</th>\n",
       "      <th>release_date</th>\n",
       "      <th>restock</th>\n",
       "      <th>...</th>\n",
       "      <th>2</th>\n",
       "      <th>3</th>\n",
       "      <th>4</th>\n",
       "      <th>5</th>\n",
       "      <th>6</th>\n",
       "      <th>7</th>\n",
       "      <th>8</th>\n",
       "      <th>9</th>\n",
       "      <th>10</th>\n",
       "      <th>11</th>\n",
       "    </tr>\n",
       "  </thead>\n",
       "  <tbody>\n",
       "    <tr>\n",
       "      <th>0</th>\n",
       "      <td>0</td>\n",
       "      <td>5</td>\n",
       "      <td>36</td>\n",
       "      <td>SS17</td>\n",
       "      <td>long sleeve</td>\n",
       "      <td>grey</td>\n",
       "      <td>PE17/00005.png</td>\n",
       "      <td>acrylic</td>\n",
       "      <td>2016-11-28</td>\n",
       "      <td>22</td>\n",
       "      <td>...</td>\n",
       "      <td>1.0</td>\n",
       "      <td>1.0</td>\n",
       "      <td>2.0</td>\n",
       "      <td>1.0</td>\n",
       "      <td>0.0</td>\n",
       "      <td>0.0</td>\n",
       "      <td>2.0</td>\n",
       "      <td>0.0</td>\n",
       "      <td>0.0</td>\n",
       "      <td>0.0</td>\n",
       "    </tr>\n",
       "    <tr>\n",
       "      <th>1</th>\n",
       "      <td>1</td>\n",
       "      <td>2</td>\n",
       "      <td>51</td>\n",
       "      <td>SS17</td>\n",
       "      <td>long sleeve</td>\n",
       "      <td>violet</td>\n",
       "      <td>PE17/00002.png</td>\n",
       "      <td>acrylic</td>\n",
       "      <td>2016-11-28</td>\n",
       "      <td>17</td>\n",
       "      <td>...</td>\n",
       "      <td>1.0</td>\n",
       "      <td>0.0</td>\n",
       "      <td>0.0</td>\n",
       "      <td>2.0</td>\n",
       "      <td>0.0</td>\n",
       "      <td>0.0</td>\n",
       "      <td>0.0</td>\n",
       "      <td>1.0</td>\n",
       "      <td>1.0</td>\n",
       "      <td>0.0</td>\n",
       "    </tr>\n",
       "    <tr>\n",
       "      <th>2</th>\n",
       "      <td>2</td>\n",
       "      <td>5</td>\n",
       "      <td>10</td>\n",
       "      <td>SS17</td>\n",
       "      <td>long sleeve</td>\n",
       "      <td>grey</td>\n",
       "      <td>PE17/00005.png</td>\n",
       "      <td>acrylic</td>\n",
       "      <td>2016-11-28</td>\n",
       "      <td>15</td>\n",
       "      <td>...</td>\n",
       "      <td>1.0</td>\n",
       "      <td>0.0</td>\n",
       "      <td>1.0</td>\n",
       "      <td>1.0</td>\n",
       "      <td>1.0</td>\n",
       "      <td>1.0</td>\n",
       "      <td>1.0</td>\n",
       "      <td>0.0</td>\n",
       "      <td>0.0</td>\n",
       "      <td>1.0</td>\n",
       "    </tr>\n",
       "    <tr>\n",
       "      <th>3</th>\n",
       "      <td>3</td>\n",
       "      <td>9</td>\n",
       "      <td>41</td>\n",
       "      <td>SS17</td>\n",
       "      <td>culottes</td>\n",
       "      <td>yellow</td>\n",
       "      <td>PE17/00009.png</td>\n",
       "      <td>scuba crepe</td>\n",
       "      <td>2016-11-28</td>\n",
       "      <td>32</td>\n",
       "      <td>...</td>\n",
       "      <td>1.0</td>\n",
       "      <td>1.0</td>\n",
       "      <td>0.0</td>\n",
       "      <td>0.0</td>\n",
       "      <td>0.0</td>\n",
       "      <td>1.0</td>\n",
       "      <td>0.0</td>\n",
       "      <td>1.0</td>\n",
       "      <td>0.0</td>\n",
       "      <td>0.0</td>\n",
       "    </tr>\n",
       "    <tr>\n",
       "      <th>4</th>\n",
       "      <td>4</td>\n",
       "      <td>5</td>\n",
       "      <td>13</td>\n",
       "      <td>SS17</td>\n",
       "      <td>long sleeve</td>\n",
       "      <td>grey</td>\n",
       "      <td>PE17/00005.png</td>\n",
       "      <td>acrylic</td>\n",
       "      <td>2016-11-28</td>\n",
       "      <td>26</td>\n",
       "      <td>...</td>\n",
       "      <td>4.0</td>\n",
       "      <td>0.0</td>\n",
       "      <td>3.0</td>\n",
       "      <td>0.0</td>\n",
       "      <td>2.0</td>\n",
       "      <td>1.0</td>\n",
       "      <td>0.0</td>\n",
       "      <td>0.0</td>\n",
       "      <td>0.0</td>\n",
       "      <td>0.0</td>\n",
       "    </tr>\n",
       "    <tr>\n",
       "      <th>...</th>\n",
       "      <td>...</td>\n",
       "      <td>...</td>\n",
       "      <td>...</td>\n",
       "      <td>...</td>\n",
       "      <td>...</td>\n",
       "      <td>...</td>\n",
       "      <td>...</td>\n",
       "      <td>...</td>\n",
       "      <td>...</td>\n",
       "      <td>...</td>\n",
       "      <td>...</td>\n",
       "      <td>...</td>\n",
       "      <td>...</td>\n",
       "      <td>...</td>\n",
       "      <td>...</td>\n",
       "      <td>...</td>\n",
       "      <td>...</td>\n",
       "      <td>...</td>\n",
       "      <td>...</td>\n",
       "      <td>...</td>\n",
       "      <td>...</td>\n",
       "    </tr>\n",
       "    <tr>\n",
       "      <th>106845</th>\n",
       "      <td>106845</td>\n",
       "      <td>5504</td>\n",
       "      <td>51</td>\n",
       "      <td>AW19</td>\n",
       "      <td>medium coat</td>\n",
       "      <td>grey</td>\n",
       "      <td>AI19/05504.png</td>\n",
       "      <td>foam rubber</td>\n",
       "      <td>2019-12-30</td>\n",
       "      <td>12</td>\n",
       "      <td>...</td>\n",
       "      <td>1.0</td>\n",
       "      <td>3.0</td>\n",
       "      <td>3.0</td>\n",
       "      <td>1.0</td>\n",
       "      <td>0.0</td>\n",
       "      <td>0.0</td>\n",
       "      <td>0.0</td>\n",
       "      <td>0.0</td>\n",
       "      <td>0.0</td>\n",
       "      <td>0.0</td>\n",
       "    </tr>\n",
       "    <tr>\n",
       "      <th>106846</th>\n",
       "      <td>106846</td>\n",
       "      <td>5558</td>\n",
       "      <td>10</td>\n",
       "      <td>AW19</td>\n",
       "      <td>medium coat</td>\n",
       "      <td>black</td>\n",
       "      <td>AI19/05558.png</td>\n",
       "      <td>foam rubber</td>\n",
       "      <td>2019-12-30</td>\n",
       "      <td>12</td>\n",
       "      <td>...</td>\n",
       "      <td>0.0</td>\n",
       "      <td>1.0</td>\n",
       "      <td>0.0</td>\n",
       "      <td>1.0</td>\n",
       "      <td>0.0</td>\n",
       "      <td>2.0</td>\n",
       "      <td>1.0</td>\n",
       "      <td>0.0</td>\n",
       "      <td>0.0</td>\n",
       "      <td>0.0</td>\n",
       "    </tr>\n",
       "    <tr>\n",
       "      <th>106847</th>\n",
       "      <td>106847</td>\n",
       "      <td>4988</td>\n",
       "      <td>108</td>\n",
       "      <td>AW19</td>\n",
       "      <td>medium coat</td>\n",
       "      <td>black</td>\n",
       "      <td>AI19/04988.png</td>\n",
       "      <td>cloth</td>\n",
       "      <td>2019-12-30</td>\n",
       "      <td>15</td>\n",
       "      <td>...</td>\n",
       "      <td>0.0</td>\n",
       "      <td>1.0</td>\n",
       "      <td>2.0</td>\n",
       "      <td>3.0</td>\n",
       "      <td>5.0</td>\n",
       "      <td>2.0</td>\n",
       "      <td>0.0</td>\n",
       "      <td>0.0</td>\n",
       "      <td>0.0</td>\n",
       "      <td>0.0</td>\n",
       "    </tr>\n",
       "    <tr>\n",
       "      <th>106848</th>\n",
       "      <td>106848</td>\n",
       "      <td>4280</td>\n",
       "      <td>105</td>\n",
       "      <td>AW19</td>\n",
       "      <td>culottes</td>\n",
       "      <td>blue</td>\n",
       "      <td>AI19/04280.png</td>\n",
       "      <td>light jeans</td>\n",
       "      <td>2019-12-30</td>\n",
       "      <td>1</td>\n",
       "      <td>...</td>\n",
       "      <td>4.0</td>\n",
       "      <td>1.0</td>\n",
       "      <td>2.0</td>\n",
       "      <td>3.0</td>\n",
       "      <td>1.0</td>\n",
       "      <td>0.0</td>\n",
       "      <td>0.0</td>\n",
       "      <td>0.0</td>\n",
       "      <td>0.0</td>\n",
       "      <td>0.0</td>\n",
       "    </tr>\n",
       "    <tr>\n",
       "      <th>106849</th>\n",
       "      <td>106849</td>\n",
       "      <td>4791</td>\n",
       "      <td>28</td>\n",
       "      <td>AW19</td>\n",
       "      <td>sleeveless</td>\n",
       "      <td>brown</td>\n",
       "      <td>AI19/04791.png</td>\n",
       "      <td>paillettes</td>\n",
       "      <td>2019-12-30</td>\n",
       "      <td>6</td>\n",
       "      <td>...</td>\n",
       "      <td>1.0</td>\n",
       "      <td>1.0</td>\n",
       "      <td>1.0</td>\n",
       "      <td>1.0</td>\n",
       "      <td>0.0</td>\n",
       "      <td>0.0</td>\n",
       "      <td>0.0</td>\n",
       "      <td>1.0</td>\n",
       "      <td>0.0</td>\n",
       "      <td>0.0</td>\n",
       "    </tr>\n",
       "  </tbody>\n",
       "</table>\n",
       "<p>106850 rows × 22 columns</p>\n",
       "</div>"
      ],
      "text/plain": [
       "        Unnamed: 0  external_code  retail season     category   color  \\\n",
       "0                0              5      36   SS17  long sleeve    grey   \n",
       "1                1              2      51   SS17  long sleeve  violet   \n",
       "2                2              5      10   SS17  long sleeve    grey   \n",
       "3                3              9      41   SS17     culottes  yellow   \n",
       "4                4              5      13   SS17  long sleeve    grey   \n",
       "...            ...            ...     ...    ...          ...     ...   \n",
       "106845      106845           5504      51   AW19  medium coat    grey   \n",
       "106846      106846           5558      10   AW19  medium coat   black   \n",
       "106847      106847           4988     108   AW19  medium coat   black   \n",
       "106848      106848           4280     105   AW19     culottes    blue   \n",
       "106849      106849           4791      28   AW19   sleeveless   brown   \n",
       "\n",
       "            image_path       fabric release_date  restock  ...    2    3    4  \\\n",
       "0       PE17/00005.png      acrylic   2016-11-28       22  ...  1.0  1.0  2.0   \n",
       "1       PE17/00002.png      acrylic   2016-11-28       17  ...  1.0  0.0  0.0   \n",
       "2       PE17/00005.png      acrylic   2016-11-28       15  ...  1.0  0.0  1.0   \n",
       "3       PE17/00009.png  scuba crepe   2016-11-28       32  ...  1.0  1.0  0.0   \n",
       "4       PE17/00005.png      acrylic   2016-11-28       26  ...  4.0  0.0  3.0   \n",
       "...                ...          ...          ...      ...  ...  ...  ...  ...   \n",
       "106845  AI19/05504.png  foam rubber   2019-12-30       12  ...  1.0  3.0  3.0   \n",
       "106846  AI19/05558.png  foam rubber   2019-12-30       12  ...  0.0  1.0  0.0   \n",
       "106847  AI19/04988.png        cloth   2019-12-30       15  ...  0.0  1.0  2.0   \n",
       "106848  AI19/04280.png  light jeans   2019-12-30        1  ...  4.0  1.0  2.0   \n",
       "106849  AI19/04791.png   paillettes   2019-12-30        6  ...  1.0  1.0  1.0   \n",
       "\n",
       "          5    6    7    8    9   10   11  \n",
       "0       1.0  0.0  0.0  2.0  0.0  0.0  0.0  \n",
       "1       2.0  0.0  0.0  0.0  1.0  1.0  0.0  \n",
       "2       1.0  1.0  1.0  1.0  0.0  0.0  1.0  \n",
       "3       0.0  0.0  1.0  0.0  1.0  0.0  0.0  \n",
       "4       0.0  2.0  1.0  0.0  0.0  0.0  0.0  \n",
       "...     ...  ...  ...  ...  ...  ...  ...  \n",
       "106845  1.0  0.0  0.0  0.0  0.0  0.0  0.0  \n",
       "106846  1.0  0.0  2.0  1.0  0.0  0.0  0.0  \n",
       "106847  3.0  5.0  2.0  0.0  0.0  0.0  0.0  \n",
       "106848  3.0  1.0  0.0  0.0  0.0  0.0  0.0  \n",
       "106849  1.0  0.0  0.0  0.0  1.0  0.0  0.0  \n",
       "\n",
       "[106850 rows x 22 columns]"
      ]
     },
     "execution_count": 20,
     "metadata": {},
     "output_type": "execute_result"
    }
   ],
   "source": [
    "data"
   ]
  },
  {
   "cell_type": "code",
   "execution_count": 21,
   "id": "9147dc99",
   "metadata": {},
   "outputs": [],
   "source": [
    "liste_polluant= ['acrylic','georgette', 'nylon','dark jeans','light jeans', 'heavy jeans','faux leather', 'fluid polyviscous', 'polyviscous','paillettes' ]\n"
   ]
  },
  {
   "cell_type": "code",
   "execution_count": 22,
   "id": "86cffe12",
   "metadata": {},
   "outputs": [],
   "source": [
    "liste_ok = data['fabric'].unique().copy()"
   ]
  },
  {
   "cell_type": "code",
   "execution_count": 23,
   "id": "3f80c97b",
   "metadata": {
    "scrolled": true
   },
   "outputs": [
    {
     "data": {
      "text/plain": [
       "['acrylic',\n",
       " 'georgette',\n",
       " 'nylon',\n",
       " 'dark jeans',\n",
       " 'light jeans',\n",
       " 'heavy jeans',\n",
       " 'faux leather',\n",
       " 'fluid polyviscous',\n",
       " 'polyviscous',\n",
       " 'paillettes']"
      ]
     },
     "execution_count": 23,
     "metadata": {},
     "output_type": "execute_result"
    }
   ],
   "source": [
    "liste_polluant"
   ]
  },
  {
   "cell_type": "code",
   "execution_count": 24,
   "id": "f24aa6e7",
   "metadata": {},
   "outputs": [],
   "source": [
    "liste_non_polluant = np.setdiff1d(liste_ok, liste_polluant)"
   ]
  },
  {
   "cell_type": "code",
   "execution_count": 25,
   "id": "0b1cbc0f",
   "metadata": {
    "scrolled": false
   },
   "outputs": [
    {
     "data": {
      "text/plain": [
       "array(['angora', 'bengaline', 'cady', 'chambree', 'chanel', 'chine crepe',\n",
       "       'cloth', 'cotton', 'crepe', 'dainetto', 'devore', 'embossed',\n",
       "       'flamed', 'fluid', 'foam rubber', 'frise', 'fur', 'goose', 'hron',\n",
       "       'ity', 'jacquard', 'lace', 'linen', 'lurex', 'macrame', 'marocain',\n",
       "       'matte jersey', 'milano stitch', 'mohair', 'muslin cotton or silk',\n",
       "       'mutton', 'nice', 'ottoman', 'piquet', 'plisse', 'plumetis',\n",
       "       'plush', 'satin cotton', 'scottish', 'scuba crepe', 'shiny jersey',\n",
       "       'silky satin', 'tactel', 'technical', 'tencel', 'tulle', 'velvet',\n",
       "       'viscose twill', 'webbing'], dtype=object)"
      ]
     },
     "execution_count": 25,
     "metadata": {},
     "output_type": "execute_result"
    }
   ],
   "source": [
    "liste_non_polluant "
   ]
  },
  {
   "cell_type": "code",
   "execution_count": 26,
   "id": "b0dbfd3f",
   "metadata": {},
   "outputs": [],
   "source": [
    "# Créez une colonne booléenne qui vaut True si la matière est dans la liste des matières polluantes\n",
    "data['matiere_polluante'] = data['fabric'].isin(liste_polluant)\n",
    "\n",
    "# Convertissez la colonne booléenne en une colonne d'entiers (0 pour False, 1 pour True)\n",
    "data['matiere_polluante'] = data['matiere_polluante'].astype(int)"
   ]
  },
  {
   "cell_type": "code",
   "execution_count": 27,
   "id": "6d00de0a",
   "metadata": {
    "scrolled": true
   },
   "outputs": [
    {
     "name": "stdout",
     "output_type": "stream",
     "text": [
      "0    75030\n",
      "1    31820\n",
      "Name: matiere_polluante, dtype: int64\n"
     ]
    }
   ],
   "source": [
    "print(data['matiere_polluante'].value_counts())"
   ]
  },
  {
   "cell_type": "code",
   "execution_count": 28,
   "id": "8ceee28c",
   "metadata": {},
   "outputs": [
    {
     "name": "stdout",
     "output_type": "stream",
     "text": [
      "31820\n"
     ]
    }
   ],
   "source": [
    "count = 0\n",
    "for fabric in data['fabric']:\n",
    "    if fabric in liste_polluant:\n",
    "        count += 1\n",
    "print(count)"
   ]
  },
  {
   "cell_type": "code",
   "execution_count": 29,
   "id": "7d6b76d0",
   "metadata": {},
   "outputs": [],
   "source": [
    "df = data.drop(['Unnamed: 0','external_code', 'retail', 'season', 'category', 'color','release_date', 'restock','fabric', '0', '1', '2', '3', '4', '5', '6', '7', '8', '9', '10', '11'], axis=1)"
   ]
  },
  {
   "cell_type": "code",
   "execution_count": 30,
   "id": "ba9ab87c",
   "metadata": {},
   "outputs": [],
   "source": [
    "df['matiere_polluante'] = data['matiere_polluante'].astype(str)"
   ]
  },
  {
   "cell_type": "code",
   "execution_count": 31,
   "id": "3cc0ef02",
   "metadata": {},
   "outputs": [],
   "source": [
    "# extraire les noms de fichiers\n",
    "new_paths = []\n",
    "for path in df['image_path']:\n",
    "    #new_path = path.split('/')[-1].split('.')[0]\n",
    "    new_path = path.split('/')[-1]\n",
    "    new_paths.append(new_path)\n",
    "\n",
    "# remplacer la colonne image_path par les nouveaux noms de fichiers extraits\n",
    "df['image_path'] = new_paths"
   ]
  },
  {
   "cell_type": "code",
   "execution_count": 32,
   "id": "aa438049",
   "metadata": {
    "scrolled": true
   },
   "outputs": [],
   "source": [
    "#df.head()"
   ]
  },
  {
   "cell_type": "code",
   "execution_count": 33,
   "id": "9c20446b",
   "metadata": {},
   "outputs": [],
   "source": [
    "df['color']=data['color']"
   ]
  },
  {
   "cell_type": "code",
   "execution_count": 34,
   "id": "ac8275aa",
   "metadata": {
    "scrolled": true
   },
   "outputs": [],
   "source": [
    "#df.head()"
   ]
  },
  {
   "cell_type": "code",
   "execution_count": 35,
   "id": "589e373e",
   "metadata": {
    "scrolled": true
   },
   "outputs": [
    {
     "name": "stdout",
     "output_type": "stream",
     "text": [
      "106850\n"
     ]
    }
   ],
   "source": [
    "print(len(df))"
   ]
  },
  {
   "cell_type": "code",
   "execution_count": 36,
   "id": "9f97ee98",
   "metadata": {
    "scrolled": true
   },
   "outputs": [],
   "source": [
    "def sup_lignes_en_double(df):\n",
    "    return df.drop_duplicates(subset=['image_path'], keep='first')\n",
    "\n",
    "df=sup_lignes_en_double(df)\n",
    "#df.head()"
   ]
  },
  {
   "cell_type": "markdown",
   "id": "bdf66a8a",
   "metadata": {},
   "source": [
    "## fusion df / image_nom \n",
    "pour obtenir seulement les lignesavec une correspondance dans les images"
   ]
  },
  {
   "cell_type": "code",
   "execution_count": 37,
   "id": "1b7aa6e6",
   "metadata": {},
   "outputs": [
    {
     "name": "stdout",
     "output_type": "stream",
     "text": [
      "<class 'pandas.core.frame.DataFrame'>\n"
     ]
    }
   ],
   "source": [
    "print(type(df))"
   ]
  },
  {
   "cell_type": "code",
   "execution_count": 38,
   "id": "a43bdf5d",
   "metadata": {},
   "outputs": [
    {
     "name": "stdout",
     "output_type": "stream",
     "text": [
      "['03188.png', '02296.png', '01953.png', '02282.png', '04195.png']\n"
     ]
    }
   ],
   "source": [
    "print(image_nom[:5])"
   ]
  },
  {
   "cell_type": "code",
   "execution_count": 39,
   "id": "5e5a79fb",
   "metadata": {},
   "outputs": [],
   "source": [
    "image_noms = pd.DataFrame(image_nom, columns=['image_path'])"
   ]
  },
  {
   "cell_type": "code",
   "execution_count": 40,
   "id": "55d16b84",
   "metadata": {
    "scrolled": false
   },
   "outputs": [],
   "source": [
    "#image_noms.head()"
   ]
  },
  {
   "cell_type": "code",
   "execution_count": 41,
   "id": "b7ffe5c5",
   "metadata": {},
   "outputs": [
    {
     "name": "stdout",
     "output_type": "stream",
     "text": [
      "<class 'list'>\n"
     ]
    }
   ],
   "source": [
    "print(type(image_nom))"
   ]
  },
  {
   "cell_type": "code",
   "execution_count": 42,
   "id": "c592cf07",
   "metadata": {},
   "outputs": [],
   "source": [
    "image_nom_df = pd.DataFrame({'image_path': image_nom})\n",
    "resultat = pd.merge(df, image_nom_df, on='image_path', how='inner')"
   ]
  },
  {
   "cell_type": "code",
   "execution_count": 43,
   "id": "64915f90",
   "metadata": {},
   "outputs": [
    {
     "name": "stdout",
     "output_type": "stream",
     "text": [
      "2143\n"
     ]
    }
   ],
   "source": [
    "print(len(image_nom_df))"
   ]
  },
  {
   "cell_type": "code",
   "execution_count": 44,
   "id": "ed778f80",
   "metadata": {
    "scrolled": true
   },
   "outputs": [],
   "source": [
    "#resultat.head()"
   ]
  },
  {
   "cell_type": "code",
   "execution_count": 45,
   "id": "173a78b1",
   "metadata": {
    "scrolled": true
   },
   "outputs": [
    {
     "name": "stdout",
     "output_type": "stream",
     "text": [
      "2143\n"
     ]
    }
   ],
   "source": [
    "print(len(resultat))"
   ]
  },
  {
   "cell_type": "code",
   "execution_count": 46,
   "id": "f1783b21",
   "metadata": {},
   "outputs": [
    {
     "data": {
      "text/plain": [
       "True"
      ]
     },
     "execution_count": 46,
     "metadata": {},
     "output_type": "execute_result"
    }
   ],
   "source": [
    "set(image_nom) == set(resultat['image_path'])\n",
    "# par extension, même nombre de fichiers dans image_train et resultat "
   ]
  },
  {
   "cell_type": "code",
   "execution_count": 47,
   "id": "4e5e1aa5",
   "metadata": {},
   "outputs": [],
   "source": [
    "label = resultat['matiere_polluante']\n",
    "#print(label)"
   ]
  },
  {
   "cell_type": "code",
   "execution_count": 48,
   "id": "7821b2a9",
   "metadata": {},
   "outputs": [
    {
     "name": "stdout",
     "output_type": "stream",
     "text": [
      "2143\n",
      "<class 'pandas.core.series.Series'>\n"
     ]
    }
   ],
   "source": [
    "print(len(label))\n",
    "print(type(label))"
   ]
  },
  {
   "cell_type": "code",
   "execution_count": 49,
   "id": "2e370702",
   "metadata": {
    "scrolled": false
   },
   "outputs": [],
   "source": [
    "# 1 = matière polluante\n",
    "# 0 = matière ok "
   ]
  },
  {
   "cell_type": "code",
   "execution_count": null,
   "id": "e03a7e9a",
   "metadata": {},
   "outputs": [],
   "source": []
  },
  {
   "cell_type": "markdown",
   "id": "05ad5080",
   "metadata": {},
   "source": [
    "## Transformation en Pyspark\n",
    "Pour utiliser un modèle cnn avec PyTorch, les données doivent être en format torch"
   ]
  },
  {
   "cell_type": "code",
   "execution_count": 50,
   "id": "a8377a18",
   "metadata": {},
   "outputs": [
    {
     "name": "stdout",
     "output_type": "stream",
     "text": [
      "<class 'list'>\n",
      "2143\n"
     ]
    }
   ],
   "source": [
    "print(type(image_train))\n",
    "print(len(image_train))"
   ]
  },
  {
   "cell_type": "code",
   "execution_count": 51,
   "id": "42206deb",
   "metadata": {},
   "outputs": [
    {
     "name": "stdout",
     "output_type": "stream",
     "text": [
      "<class 'pandas.core.series.Series'>\n",
      "2143\n"
     ]
    }
   ],
   "source": [
    "print(type(label))\n",
    "print(len(label))"
   ]
  },
  {
   "cell_type": "code",
   "execution_count": 52,
   "id": "40b4ec03",
   "metadata": {
    "scrolled": false
   },
   "outputs": [],
   "source": [
    "#for i in image_train:\n",
    "    #filename, img = i\n",
    "    #print(filename + str(img.shape))\n",
    "    #02296.png(224, 224, 3)"
   ]
  },
  {
   "cell_type": "code",
   "execution_count": 53,
   "id": "1dfb2e41",
   "metadata": {},
   "outputs": [],
   "source": [
    "image_train_tensor = torch.stack([torch.tensor(t[1]) for t in image_train])"
   ]
  },
  {
   "cell_type": "code",
   "execution_count": 54,
   "id": "af288e77",
   "metadata": {},
   "outputs": [],
   "source": [
    "label_dict = {label: i for i, label in enumerate(set(label))}\n",
    "label_array = np.array([label_dict[label] for label in label], dtype=np.int32)\n",
    "labels_train_tensor = torch.tensor(label_array)"
   ]
  },
  {
   "cell_type": "code",
   "execution_count": 55,
   "id": "f81a6f09",
   "metadata": {},
   "outputs": [],
   "source": [
    "#Séparation des données en deux, un pour l'entrainement et un pour le test\n",
    "X_train, X_test, y_train, y_test = train_test_split(image_train_tensor, labels_train_tensor, test_size=0.2, random_state=42)\n",
    "\n",
    "train_dataset = TensorDataset(X_train, y_train)\n",
    "test_dataset = TensorDataset(X_test, y_test)"
   ]
  },
  {
   "cell_type": "code",
   "execution_count": null,
   "id": "77262a0f",
   "metadata": {},
   "outputs": [],
   "source": []
  },
  {
   "cell_type": "code",
   "execution_count": 56,
   "id": "ae97582a",
   "metadata": {
    "scrolled": true
   },
   "outputs": [
    {
     "name": "stdout",
     "output_type": "stream",
     "text": [
      "1714\n",
      "<class 'torch.utils.data.dataset.TensorDataset'>\n"
     ]
    }
   ],
   "source": [
    "print(len(train_dataset))\n",
    "print(type(train_dataset))"
   ]
  },
  {
   "cell_type": "code",
   "execution_count": 57,
   "id": "4d7b876d",
   "metadata": {},
   "outputs": [
    {
     "name": "stdout",
     "output_type": "stream",
     "text": [
      "429\n",
      "<class 'torch.utils.data.dataset.TensorDataset'>\n"
     ]
    }
   ],
   "source": [
    "print(len(test_dataset))\n",
    "print(type(test_dataset))"
   ]
  },
  {
   "cell_type": "markdown",
   "id": "b6951723",
   "metadata": {},
   "source": [
    "# Définition du Modèle  - hyperparamètres - fonction de perte - optimisateur"
   ]
  },
  {
   "cell_type": "code",
   "execution_count": 58,
   "id": "25a7b235",
   "metadata": {},
   "outputs": [],
   "source": [
    "# Le modele\n",
    "class PolluantClassifier(nn.Module):\n",
    "    def __init__(self):\n",
    "        super(PolluantClassifier, self).__init__()\n",
    "        self.conv1 = nn.Conv2d(3, 16, kernel_size=3, stride=1, padding=1)\n",
    "        self.bn1 = nn.BatchNorm2d(16)\n",
    "        self.pool = nn.MaxPool2d(kernel_size=2, stride=2)\n",
    "        self.conv2 = nn.Conv2d(16, 32, kernel_size=3, stride=1, padding=1)\n",
    "        self.bn2 = nn.BatchNorm2d(32)\n",
    "        self.fc1 = nn.Linear(32 * 56 * 56, 256)\n",
    "        self.fc2 = nn.Linear(256, 2)\n",
    "    \n",
    "    def forward(self, x):\n",
    "        x = self.conv1(x)\n",
    "        x = self.bn1(x)\n",
    "        x = nn.functional.relu(x)\n",
    "        x = self.pool(x)\n",
    "        x = self.conv2(x)\n",
    "        x = self.bn2(x)\n",
    "        x = nn.functional.relu(x)\n",
    "        x = self.pool(x)\n",
    "        x = x.reshape(-1, 32 * 56 * 56)\n",
    "        x = self.fc1(x)\n",
    "        x = nn.functional.relu(x)\n",
    "        x = self.fc2(x)\n",
    "        return x"
   ]
  },
  {
   "cell_type": "code",
   "execution_count": 59,
   "id": "e151e395",
   "metadata": {},
   "outputs": [],
   "source": [
    "# Les hyperparamètres qui ont un rôle principal dans le bon fonctionnement du modèle\n",
    "batch_size = 64   \n",
    "learning_rate = 0.01   \n",
    "num_epochs = 10   \n"
   ]
  },
  {
   "cell_type": "code",
   "execution_count": 60,
   "id": "df70a58c",
   "metadata": {},
   "outputs": [],
   "source": [
    "# Instanciation du modèle, de la fonction de perte et de l'optimiseur\n",
    "model = PolluantClassifier()\n",
    "criterion = nn.CrossEntropyLoss()\n",
    "optimizer = optim.Adam(model.parameters(), lr=learning_rate)"
   ]
  },
  {
   "cell_type": "code",
   "execution_count": 61,
   "id": "2ff3eec6",
   "metadata": {},
   "outputs": [],
   "source": [
    "train_loader = DataLoader(train_dataset, batch_size=batch_size, shuffle=True)"
   ]
  },
  {
   "cell_type": "code",
   "execution_count": null,
   "id": "41c37ccf",
   "metadata": {},
   "outputs": [],
   "source": []
  },
  {
   "cell_type": "code",
   "execution_count": 62,
   "id": "78a8dd1d",
   "metadata": {},
   "outputs": [
    {
     "name": "stdout",
     "output_type": "stream",
     "text": [
      "Epoch [1/10], Train Loss: 57.3041, Train Accuracy: 0.0172\n",
      "Epoch [2/10], Train Loss: 0.6635, Train Accuracy: 0.0215\n",
      "Epoch [3/10], Train Loss: 0.6163, Train Accuracy: 0.0215\n",
      "Epoch [4/10], Train Loss: 0.5964, Train Accuracy: 0.0215\n",
      "Epoch [5/10], Train Loss: 0.5871, Train Accuracy: 0.0215\n",
      "Epoch [6/10], Train Loss: 0.5875, Train Accuracy: 0.0215\n",
      "Epoch [7/10], Train Loss: 0.5790, Train Accuracy: 0.0215\n",
      "Epoch [8/10], Train Loss: 0.5836, Train Accuracy: 0.0215\n",
      "Epoch [9/10], Train Loss: 0.5804, Train Accuracy: 0.0215\n",
      "Epoch [10/10], Train Loss: 0.5751, Train Accuracy: 0.0215\n"
     ]
    }
   ],
   "source": [
    "# Entraîner le modèle\n",
    "for epoch in range(num_epochs):\n",
    "    train_loss = 0.0\n",
    "    train_correct = 0\n",
    "    train_total = 0\n",
    "    for i, (images, labels) in enumerate(train_loader):\n",
    "        optimizer.zero_grad()\n",
    "        images = images.float().permute(0, 3, 1, 2)\n",
    "        outputs = model(images)\n",
    "        loss = criterion(outputs, labels.long())\n",
    "        loss.backward()\n",
    "        optimizer.step()\n",
    "        train_loss += loss.item()\n",
    "        _, predicted = torch.max(outputs.data, 1)\n",
    "        train_total += labels_train_tensor.size(0)\n",
    "        train_correct += (predicted == labels).sum().item()\n",
    "    train_accuracy = train_correct / train_total\n",
    "    train_loss /= len(train_loader)\n",
    "    print('Epoch [{}/{}], Train Loss: {:.4f}, Train Accuracy: {:.4f}'.format(epoch+1, num_epochs, train_loss, train_accuracy))\n"
   ]
  },
  {
   "cell_type": "code",
   "execution_count": null,
   "id": "1c121a93",
   "metadata": {},
   "outputs": [],
   "source": []
  },
  {
   "cell_type": "code",
   "execution_count": 63,
   "id": "e05eff2f",
   "metadata": {},
   "outputs": [],
   "source": [
    "# sauvegarde du modèle\n",
    "#PATH = \"/Users/jade/Desktop/Cours_M2 S2/projet IA/my_model.pt\"\n",
    "#torch.save(model.state_dict(), PATH)"
   ]
  },
  {
   "cell_type": "markdown",
   "id": "e8b70472",
   "metadata": {},
   "source": [
    "# Test du modèle avec la partie train du dataset"
   ]
  },
  {
   "cell_type": "code",
   "execution_count": 64,
   "id": "deea7d16",
   "metadata": {},
   "outputs": [
    {
     "data": {
      "text/plain": [
       "PolluantClassifier(\n",
       "  (conv1): Conv2d(3, 16, kernel_size=(3, 3), stride=(1, 1), padding=(1, 1))\n",
       "  (bn1): BatchNorm2d(16, eps=1e-05, momentum=0.1, affine=True, track_running_stats=True)\n",
       "  (pool): MaxPool2d(kernel_size=2, stride=2, padding=0, dilation=1, ceil_mode=False)\n",
       "  (conv2): Conv2d(16, 32, kernel_size=(3, 3), stride=(1, 1), padding=(1, 1))\n",
       "  (bn2): BatchNorm2d(32, eps=1e-05, momentum=0.1, affine=True, track_running_stats=True)\n",
       "  (fc1): Linear(in_features=100352, out_features=256, bias=True)\n",
       "  (fc2): Linear(in_features=256, out_features=2, bias=True)\n",
       ")"
      ]
     },
     "execution_count": 64,
     "metadata": {},
     "output_type": "execute_result"
    }
   ],
   "source": [
    "# Chargement du modèle\n",
    "model = PolluantClassifier()\n",
    "PATH = \"/Users/jade/Desktop/Cours_M2 S2/projet IA/my_model.pt\"\n",
    "model.load_state_dict(torch.load(PATH))\n",
    "model.eval()"
   ]
  },
  {
   "cell_type": "code",
   "execution_count": 65,
   "id": "5c654d6a",
   "metadata": {},
   "outputs": [
    {
     "data": {
      "text/plain": [
       "PolluantClassifier(\n",
       "  (conv1): Conv2d(3, 16, kernel_size=(3, 3), stride=(1, 1), padding=(1, 1))\n",
       "  (bn1): BatchNorm2d(16, eps=1e-05, momentum=0.1, affine=True, track_running_stats=True)\n",
       "  (pool): MaxPool2d(kernel_size=2, stride=2, padding=0, dilation=1, ceil_mode=False)\n",
       "  (conv2): Conv2d(16, 32, kernel_size=(3, 3), stride=(1, 1), padding=(1, 1))\n",
       "  (bn2): BatchNorm2d(32, eps=1e-05, momentum=0.1, affine=True, track_running_stats=True)\n",
       "  (fc1): Linear(in_features=100352, out_features=256, bias=True)\n",
       "  (fc2): Linear(in_features=256, out_features=2, bias=True)\n",
       ")"
      ]
     },
     "execution_count": 65,
     "metadata": {},
     "output_type": "execute_result"
    }
   ],
   "source": [
    "# Mettre le modèle en mode d'évaluation\n",
    "model.eval()"
   ]
  },
  {
   "cell_type": "code",
   "execution_count": 66,
   "id": "9d4d0b6b",
   "metadata": {},
   "outputs": [
    {
     "name": "stdout",
     "output_type": "stream",
     "text": [
      "Accuracy on test set: 0.716\n"
     ]
    }
   ],
   "source": [
    "# Test du modèle\n",
    "test_loader = DataLoader(test_dataset, batch_size=batch_size)\n",
    "\n",
    "with torch.no_grad():\n",
    "    correct = 0\n",
    "    total = 0\n",
    "    for images, labels in test_loader:\n",
    "        images = images.float().permute(0, 3, 1, 2)\n",
    "        outputs = model(images)\n",
    "        _, predicted = torch.max(outputs.data, 1)\n",
    "        total += len(labels)\n",
    "        correct += (predicted == labels).sum().item()\n",
    "\n",
    "accuracy = correct / total\n",
    "print(f\"Accuracy on test set: {accuracy:.3f}\")"
   ]
  },
  {
   "cell_type": "markdown",
   "id": "109ed718",
   "metadata": {},
   "source": [
    "# Résultats notables"
   ]
  },
  {
   "cell_type": "markdown",
   "id": "37f7ab0a",
   "metadata": {},
   "source": [
    "batch_size = 64   \n",
    "learning_rate = 0.001  \n",
    "num_epochs = 10   \n",
    " \n",
    "Accuracy on test set: 0.699"
   ]
  },
  {
   "cell_type": "markdown",
   "id": "69501491",
   "metadata": {},
   "source": [
    "batch_size = 64   \n",
    "learning_rate = 0.01   \n",
    "num_epochs = 10   \n",
    "\n",
    "\n",
    "Accuracy on test set: 0.716 "
   ]
  },
  {
   "cell_type": "markdown",
   "id": "45194f2f",
   "metadata": {},
   "source": [
    "batch_size = 32  \n",
    "learning_rate = 0.001  \n",
    "num_epochs = 10  \n",
    "\n",
    "Accuracy on test set: 0.699"
   ]
  },
  {
   "cell_type": "code",
   "execution_count": null,
   "id": "a024eee7",
   "metadata": {},
   "outputs": [],
   "source": []
  },
  {
   "cell_type": "code",
   "execution_count": null,
   "id": "522475dc",
   "metadata": {},
   "outputs": [],
   "source": []
  },
  {
   "cell_type": "markdown",
   "id": "16686223",
   "metadata": {},
   "source": [
    "# Test avec une image provenant de google "
   ]
  },
  {
   "cell_type": "code",
   "execution_count": 67,
   "id": "6e238ff1",
   "metadata": {},
   "outputs": [],
   "source": [
    "# Image en question\n",
    "image_path = \"/Users/jade/Desktop/Cours_M2 S2/projet IA/untitled folder 2/s-l500.jpg\"\n",
    "image = Image.open(image_path)\n"
   ]
  },
  {
   "cell_type": "code",
   "execution_count": 68,
   "id": "ef3e689c",
   "metadata": {},
   "outputs": [],
   "source": [
    "# Transformer l'image en tenseur PyTorch car condition de fonctionnement du modèle \n",
    "transform = transforms.Compose([\n",
    "    transforms.Resize((224, 224)),\n",
    "    transforms.ToTensor(),\n",
    "    transforms.Normalize(mean=[0.485, 0.456, 0.406], std=[0.229, 0.224, 0.225])\n",
    "])\n",
    "image_tensor = transform(image)"
   ]
  },
  {
   "cell_type": "code",
   "execution_count": 69,
   "id": "1f1a3607",
   "metadata": {},
   "outputs": [],
   "source": [
    "# Image dans le modèle \n",
    "model.eval()\n",
    "with torch.no_grad():\n",
    "    output = model(image_tensor.unsqueeze(0))\n",
    "    probs = torch.softmax(output, dim=1)"
   ]
  },
  {
   "cell_type": "code",
   "execution_count": 70,
   "id": "626cfa6e",
   "metadata": {
    "scrolled": true
   },
   "outputs": [
    {
     "name": "stdout",
     "output_type": "stream",
     "text": [
      "Prédiction: 1, donc le vêtement contiendrait une des matières polluantes désignées, Probabilité: 92.79%\n"
     ]
    }
   ],
   "source": [
    "# La prédiction\n",
    "classes = [\"0\", \"1\"]\n",
    "_, predicted = torch.max(probs.data, 1)\n",
    "class_name = classes[predicted.item()]\n",
    "prob_percentage = probs.data[0][predicted.item()] * 100.0\n",
    "if predicted.item() == 0:\n",
    "    print(f\"Prédiction: {class_name}, donc le vêtement ne contiendrait pas une des matières polluantes désignées, Probabilité: {prob_percentage:.2f}%\")\n",
    "else:\n",
    "    print(f\"Prédiction: {class_name}, donc le vêtement contiendrait une des matières polluantes désignées, Probabilité: {prob_percentage:.2f}%\")"
   ]
  },
  {
   "cell_type": "code",
   "execution_count": 71,
   "id": "8f94e6de",
   "metadata": {},
   "outputs": [
    {
     "data": {
      "image/png": "[encoded data removed]",
      "text/plain": [
       "<Figure size 640x480 with 1 Axes>"
      ]
     },
     "metadata": {},
     "output_type": "display_data"
    }
   ],
   "source": [
    "plt.imshow(image)   \n",
    "plt.show()"
   ]
  },
  {
   "cell_type": "code",
   "execution_count": null,
   "id": "c63e7912",
   "metadata": {},
   "outputs": [],
   "source": []
  },
  {
   "cell_type": "code",
   "execution_count": null,
   "id": "d3bc96f5",
   "metadata": {},
   "outputs": [],
   "source": []
  },
  {
   "cell_type": "code",
   "execution_count": 72,
   "id": "fc49614c",
   "metadata": {},
   "outputs": [],
   "source": [
    "# Image en question\n",
    "image_path = \"/Users/jade/Desktop/Cours_M2 S2/projet IA/untitled folder 2/vest jean.jpg\"\n",
    "image = Image.open(image_path)\n"
   ]
  },
  {
   "cell_type": "code",
   "execution_count": 73,
   "id": "67e6a948",
   "metadata": {},
   "outputs": [],
   "source": [
    "# Transformer l'image en tenseur PyTorch car condition de fonctionnement du modèle \n",
    "transform = transforms.Compose([\n",
    "    transforms.Resize((224, 224)),\n",
    "    transforms.ToTensor(),\n",
    "    transforms.Normalize(mean=[0.485, 0.456, 0.406], std=[0.229, 0.224, 0.225])\n",
    "])\n",
    "image_tensor = transform(image)"
   ]
  },
  {
   "cell_type": "code",
   "execution_count": 74,
   "id": "9ae2670a",
   "metadata": {},
   "outputs": [],
   "source": [
    "# Image dans le modèle \n",
    "model.eval()\n",
    "with torch.no_grad():\n",
    "    output = model(image_tensor.unsqueeze(0))\n",
    "    probs = torch.softmax(output, dim=1)"
   ]
  },
  {
   "cell_type": "code",
   "execution_count": 75,
   "id": "634ed213",
   "metadata": {
    "scrolled": true
   },
   "outputs": [
    {
     "name": "stdout",
     "output_type": "stream",
     "text": [
      "Prédiction: 1, donc le vêtement contiendrait des matières polluantes désignées, Probabilité: 92.78%\n"
     ]
    }
   ],
   "source": [
    "# La prédiction\n",
    "classes = [\"0\", \"1\"]\n",
    "_, predicted = torch.max(probs.data, 1)\n",
    "class_name = classes[predicted.item()]\n",
    "prob_percentage = probs.data[0][predicted.item()] * 100.0\n",
    "if predicted.item() == 0:\n",
    "    print(f\"Prédiction: {class_name}, donc le vêtement ne contiendrait pas une des matières polluantes désignées, Probabilité: {prob_percentage:.2f}%\")\n",
    "else:\n",
    "    print(f\"Prédiction: {class_name}, donc le vêtement contiendrait des matières polluantes désignées, Probabilité: {prob_percentage:.2f}%\")"
   ]
  },
  {
   "cell_type": "code",
   "execution_count": 76,
   "id": "2f6ed92a",
   "metadata": {
    "scrolled": true
   },
   "outputs": [
    {
     "data": {
      "image/png": "[encoded data removed]",
      "text/plain": [
       "<Figure size 640x480 with 1 Axes>"
      ]
     },
     "metadata": {},
     "output_type": "display_data"
    }
   ],
   "source": [
    "plt.imshow(image)   \n",
    "plt.show()"
   ]
  },
  {
   "cell_type": "code",
   "execution_count": null,
   "id": "d86c0484",
   "metadata": {},
   "outputs": [],
   "source": []
  },
  {
   "cell_type": "code",
   "execution_count": null,
   "id": "96846a24",
   "metadata": {},
   "outputs": [],
   "source": []
  },
  {
   "cell_type": "code",
   "execution_count": null,
   "id": "fa3a6721",
   "metadata": {},
   "outputs": [],
   "source": []
  },
  {
   "cell_type": "code",
   "execution_count": null,
   "id": "a188185e",
   "metadata": {},
   "outputs": [],
   "source": []
  },
  {
   "cell_type": "markdown",
   "id": "eb509a4c",
   "metadata": {},
   "source": [
    "# Traitement d'image - Modèle N°2"
   ]
  },
  {
   "cell_type": "code",
   "execution_count": 24,
   "id": "3c533af1",
   "metadata": {
    "id": "3c533af1"
   },
   "outputs": [],
   "source": [
    "import pandas as pd              #analyse de donnees\n",
    "import numpy as np               #manipulation de tableaux ou calcul mathematiques\n",
    "import seaborn as sns            #visualisation de donnees\n",
    "import matplotlib.pyplot as plt  #visualisation les données\n",
    "import statsmodels.api as sm"
   ]
  },
  {
   "cell_type": "code",
   "execution_count": 25,
   "id": "PqSAIWWC1r4x",
   "metadata": {
    "id": "PqSAIWWC1r4x"
   },
   "outputs": [],
   "source": [
    "from sklearn.model_selection import train_test_split\n",
    "#from keras.preprocessing.image import load_img, img_to_array\n",
    "from keras.applications.vgg16 import VGG16, preprocess_input\n",
    "from keras.models import Model\n",
    "from keras.layers import Dense, GlobalAveragePooling2D\n",
    "from keras.preprocessing.image import ImageDataGenerator\n"
   ]
  },
  {
   "cell_type": "code",
   "execution_count": 26,
   "id": "5c952fb5",
   "metadata": {
    "id": "5c952fb5"
   },
   "outputs": [],
   "source": [
    "data = pd.read_csv(\"C:/Users/nico_/Desktop/IA School M2/Fast Fashion/visuelle2/sales.csv\")"
   ]
  },
  {
   "cell_type": "markdown",
   "id": "e2676e1a",
   "metadata": {
    "id": "e2676e1a"
   },
   "source": [
    "# Création d'une matière polluante"
   ]
  },
  {
   "cell_type": "code",
   "execution_count": 27,
   "id": "8d5lVML91Lem",
   "metadata": {
    "id": "8d5lVML91Lem"
   },
   "outputs": [],
   "source": [
    "liste_polluant= ['acrylic','georgette', 'nylon','dark jeans','light jeans', 'heavy jeans','faux leather', 'fluid polyviscous', 'polyviscous','paillettes' ]\n"
   ]
  },
  {
   "cell_type": "code",
   "execution_count": 28,
   "id": "EN5bExyj1Sgu",
   "metadata": {
    "id": "EN5bExyj1Sgu"
   },
   "outputs": [],
   "source": [
    "liste_ok = data['fabric'].unique().copy()"
   ]
  },
  {
   "cell_type": "code",
   "execution_count": 29,
   "id": "pbTtsC4p1Tq8",
   "metadata": {
    "id": "pbTtsC4p1Tq8"
   },
   "outputs": [
    {
     "data": {
      "text/plain": [
       "['acrylic',\n",
       " 'georgette',\n",
       " 'nylon',\n",
       " 'dark jeans',\n",
       " 'light jeans',\n",
       " 'heavy jeans',\n",
       " 'faux leather',\n",
       " 'fluid polyviscous',\n",
       " 'polyviscous',\n",
       " 'paillettes']"
      ]
     },
     "execution_count": 29,
     "metadata": {},
     "output_type": "execute_result"
    }
   ],
   "source": [
    "liste_polluant"
   ]
  },
  {
   "cell_type": "code",
   "execution_count": 30,
   "id": "YaHQp_GP1Uln",
   "metadata": {
    "id": "YaHQp_GP1Uln"
   },
   "outputs": [],
   "source": [
    "liste_non_polluant = np.setdiff1d(liste_ok, liste_polluant)"
   ]
  },
  {
   "cell_type": "code",
   "execution_count": 31,
   "id": "XO_W-IUp1Vqt",
   "metadata": {
    "id": "XO_W-IUp1Vqt"
   },
   "outputs": [
    {
     "data": {
      "text/plain": [
       "array(['angora', 'bengaline', 'cady', 'chambree', 'chanel', 'chine crepe',\n",
       "       'cloth', 'cotton', 'crepe', 'dainetto', 'devore', 'embossed',\n",
       "       'flamed', 'fluid', 'foam rubber', 'frise', 'fur', 'goose', 'hron',\n",
       "       'ity', 'jacquard', 'lace', 'linen', 'lurex', 'macrame', 'marocain',\n",
       "       'matte jersey', 'milano stitch', 'mohair', 'muslin cotton or silk',\n",
       "       'mutton', 'nice', 'ottoman', 'piquet', 'plisse', 'plumetis',\n",
       "       'plush', 'satin cotton', 'scottish', 'scuba crepe', 'shiny jersey',\n",
       "       'silky satin', 'tactel', 'technical', 'tencel', 'tulle', 'velvet',\n",
       "       'viscose twill', 'webbing'], dtype=object)"
      ]
     },
     "execution_count": 31,
     "metadata": {},
     "output_type": "execute_result"
    }
   ],
   "source": [
    "liste_non_polluant "
   ]
  },
  {
   "cell_type": "code",
   "execution_count": 32,
   "id": "T4Sk8OsG1dVr",
   "metadata": {
    "id": "T4Sk8OsG1dVr"
   },
   "outputs": [],
   "source": [
    "# Créez une colonne booléenne qui vaut True si la matière est dans la liste des matières polluantes\n",
    "data['matiere_polluante'] = data['fabric'].isin(liste_polluant)\n",
    "\n",
    "# Convertissez la colonne booléenne en une colonne d'entiers (0 pour False, 1 pour True)\n",
    "data['matiere_polluante'] = data['matiere_polluante'].astype(int)"
   ]
  },
  {
   "cell_type": "code",
   "execution_count": 33,
   "id": "q5OInQr81glQ",
   "metadata": {
    "id": "q5OInQr81glQ"
   },
   "outputs": [
    {
     "name": "stdout",
     "output_type": "stream",
     "text": [
      "0    75030\n",
      "1    31820\n",
      "Name: matiere_polluante, dtype: int64\n"
     ]
    }
   ],
   "source": [
    "print(data['matiere_polluante'].value_counts())"
   ]
  },
  {
   "cell_type": "code",
   "execution_count": 34,
   "id": "mVUYYQD91hv-",
   "metadata": {
    "id": "mVUYYQD91hv-"
   },
   "outputs": [
    {
     "name": "stdout",
     "output_type": "stream",
     "text": [
      "31820\n"
     ]
    }
   ],
   "source": [
    "count = 0\n",
    "for fabric in data['fabric']:\n",
    "    if fabric in liste_polluant:\n",
    "        count += 1\n",
    "print(count)"
   ]
  },
  {
   "cell_type": "code",
   "execution_count": 35,
   "id": "0f46af93",
   "metadata": {
    "id": "0f46af93"
   },
   "outputs": [],
   "source": [
    "df = data.drop(['Unnamed: 0','external_code', 'retail', 'season', 'category', 'color','release_date', 'restock','fabric', '0', '1', '2', '3', '4', '5', '6', '7', '8', '9', '10', '11'], axis=1)"
   ]
  },
  {
   "cell_type": "code",
   "execution_count": 36,
   "id": "9f491549",
   "metadata": {
    "id": "9f491549"
   },
   "outputs": [],
   "source": [
    "df['matiere_polluante'] = df['matiere_polluante'].astype(str)"
   ]
  },
  {
   "cell_type": "code",
   "execution_count": 37,
   "id": "8fced4ac",
   "metadata": {
    "id": "8fced4ac",
    "outputId": "238bafce-4571-47ca-f081-c30c59afaf06"
   },
   "outputs": [
    {
     "data": {
      "text/html": [
       "<div>\n",
       "<style scoped>\n",
       "    .dataframe tbody tr th:only-of-type {\n",
       "        vertical-align: middle;\n",
       "    }\n",
       "\n",
       "    .dataframe tbody tr th {\n",
       "        vertical-align: top;\n",
       "    }\n",
       "\n",
       "    .dataframe thead th {\n",
       "        text-align: right;\n",
       "    }\n",
       "</style>\n",
       "<table border=\"1\" class=\"dataframe\">\n",
       "  <thead>\n",
       "    <tr style=\"text-align: right;\">\n",
       "      <th></th>\n",
       "      <th>image_path</th>\n",
       "      <th>matiere_polluante</th>\n",
       "    </tr>\n",
       "  </thead>\n",
       "  <tbody>\n",
       "    <tr>\n",
       "      <th>0</th>\n",
       "      <td>PE17/00005.png</td>\n",
       "      <td>1</td>\n",
       "    </tr>\n",
       "    <tr>\n",
       "      <th>1</th>\n",
       "      <td>PE17/00002.png</td>\n",
       "      <td>1</td>\n",
       "    </tr>\n",
       "    <tr>\n",
       "      <th>2</th>\n",
       "      <td>PE17/00005.png</td>\n",
       "      <td>1</td>\n",
       "    </tr>\n",
       "    <tr>\n",
       "      <th>3</th>\n",
       "      <td>PE17/00009.png</td>\n",
       "      <td>0</td>\n",
       "    </tr>\n",
       "    <tr>\n",
       "      <th>4</th>\n",
       "      <td>PE17/00005.png</td>\n",
       "      <td>1</td>\n",
       "    </tr>\n",
       "  </tbody>\n",
       "</table>\n",
       "</div>"
      ],
      "text/plain": [
       "       image_path matiere_polluante\n",
       "0  PE17/00005.png                 1\n",
       "1  PE17/00002.png                 1\n",
       "2  PE17/00005.png                 1\n",
       "3  PE17/00009.png                 0\n",
       "4  PE17/00005.png                 1"
      ]
     },
     "execution_count": 37,
     "metadata": {},
     "output_type": "execute_result"
    }
   ],
   "source": [
    "df.head()"
   ]
  },
  {
   "cell_type": "code",
   "execution_count": 38,
   "id": "8aeb7aab",
   "metadata": {
    "id": "8aeb7aab"
   },
   "outputs": [],
   "source": [
    "# extraire les noms de fichiers\n",
    "new_paths = []\n",
    "for path in df['image_path']:\n",
    "    #new_path = path.split('/')[-1].split('.')[0]\n",
    "    new_path = path.split('/')[-1]\n",
    "    new_paths.append(new_path)\n",
    "\n",
    "# remplacer la colonne image_path par les nouveaux noms de fichiers extraits\n",
    "df['image_path'] = new_paths"
   ]
  },
  {
   "cell_type": "code",
   "execution_count": 39,
   "id": "d95deab9",
   "metadata": {
    "id": "d95deab9",
    "outputId": "e1a16dc2-2128-428a-dd43-4a3aafd4bb1f"
   },
   "outputs": [
    {
     "data": {
      "text/html": [
       "<div>\n",
       "<style scoped>\n",
       "    .dataframe tbody tr th:only-of-type {\n",
       "        vertical-align: middle;\n",
       "    }\n",
       "\n",
       "    .dataframe tbody tr th {\n",
       "        vertical-align: top;\n",
       "    }\n",
       "\n",
       "    .dataframe thead th {\n",
       "        text-align: right;\n",
       "    }\n",
       "</style>\n",
       "<table border=\"1\" class=\"dataframe\">\n",
       "  <thead>\n",
       "    <tr style=\"text-align: right;\">\n",
       "      <th></th>\n",
       "      <th>image_path</th>\n",
       "      <th>matiere_polluante</th>\n",
       "    </tr>\n",
       "  </thead>\n",
       "  <tbody>\n",
       "    <tr>\n",
       "      <th>0</th>\n",
       "      <td>00005.png</td>\n",
       "      <td>1</td>\n",
       "    </tr>\n",
       "    <tr>\n",
       "      <th>1</th>\n",
       "      <td>00002.png</td>\n",
       "      <td>1</td>\n",
       "    </tr>\n",
       "    <tr>\n",
       "      <th>2</th>\n",
       "      <td>00005.png</td>\n",
       "      <td>1</td>\n",
       "    </tr>\n",
       "    <tr>\n",
       "      <th>3</th>\n",
       "      <td>00009.png</td>\n",
       "      <td>0</td>\n",
       "    </tr>\n",
       "    <tr>\n",
       "      <th>4</th>\n",
       "      <td>00005.png</td>\n",
       "      <td>1</td>\n",
       "    </tr>\n",
       "  </tbody>\n",
       "</table>\n",
       "</div>"
      ],
      "text/plain": [
       "  image_path matiere_polluante\n",
       "0  00005.png                 1\n",
       "1  00002.png                 1\n",
       "2  00005.png                 1\n",
       "3  00009.png                 0\n",
       "4  00005.png                 1"
      ]
     },
     "execution_count": 39,
     "metadata": {},
     "output_type": "execute_result"
    }
   ],
   "source": [
    "df.head()"
   ]
  },
  {
   "cell_type": "markdown",
   "id": "ef0a2dbf",
   "metadata": {
    "id": "ef0a2dbf"
   },
   "source": [
    "# Je ne prends que les 1000 premières photos"
   ]
  },
  {
   "cell_type": "code",
   "execution_count": 40,
   "id": "a841401b",
   "metadata": {
    "id": "a841401b"
   },
   "outputs": [],
   "source": [
    "import os\n",
    "\n",
    "\n",
    "# Définition des chemins d'accès aux images\n",
    "image_dir = r'C:\\Users\\nico_\\Desktop\\IA School M2\\Fast Fashion\\visuelle2\\images\\images1000'\n",
    "\n",
    "# Liste de tous les fichiers dans le répertoire d'images\n",
    "all_files = os.listdir(image_dir)\n",
    "\n",
    "# Liste des fichiers dans le dataframe\n",
    "df_files = df['image_path'].tolist()\n",
    "\n",
    "# Vérification des fichiers manquants\n",
    "missing_files = []\n",
    "for file in df_files:\n",
    "    if file not in all_files:\n",
    "        missing_files.append(file)\n",
    "# Suppression des lignes correspondantes dans le dataframe\n",
    "df = df[~df['image_path'].isin(missing_files)]\n"
   ]
  },
  {
   "cell_type": "code",
   "execution_count": 41,
   "id": "236fb815",
   "metadata": {
    "id": "236fb815",
    "outputId": "5b359d7a-eb28-4b75-be02-c7cd02fe013f"
   },
   "outputs": [
    {
     "data": {
      "text/plain": [
       "image_path           0\n",
       "matiere_polluante    0\n",
       "dtype: int64"
      ]
     },
     "execution_count": 41,
     "metadata": {},
     "output_type": "execute_result"
    }
   ],
   "source": [
    "df.isnull().sum()"
   ]
  },
  {
   "cell_type": "code",
   "execution_count": 42,
   "id": "d4416cf8",
   "metadata": {
    "id": "d4416cf8",
    "outputId": "5f0392d0-6aa2-4fa0-d97f-670f837613d9"
   },
   "outputs": [
    {
     "data": {
      "text/plain": [
       "13000"
      ]
     },
     "execution_count": 42,
     "metadata": {},
     "output_type": "execute_result"
    }
   ],
   "source": [
    "df.duplicated().sum()"
   ]
  },
  {
   "cell_type": "code",
   "execution_count": 43,
   "id": "48b496a7",
   "metadata": {
    "id": "48b496a7"
   },
   "outputs": [],
   "source": [
    "df.drop_duplicates(inplace=True)"
   ]
  },
  {
   "cell_type": "code",
   "execution_count": 44,
   "id": "63d56988",
   "metadata": {
    "id": "63d56988",
    "outputId": "975f89b1-33de-4a51-a941-34c00ad7fd43"
   },
   "outputs": [
    {
     "data": {
      "text/plain": [
       "0"
      ]
     },
     "execution_count": 44,
     "metadata": {},
     "output_type": "execute_result"
    }
   ],
   "source": [
    "df.duplicated().sum()"
   ]
  },
  {
   "cell_type": "code",
   "execution_count": 45,
   "id": "c6acadfe",
   "metadata": {},
   "outputs": [
    {
     "data": {
      "text/plain": [
       "(946, 2)"
      ]
     },
     "execution_count": 45,
     "metadata": {},
     "output_type": "execute_result"
    }
   ],
   "source": [
    "df.shape"
   ]
  },
  {
   "cell_type": "code",
   "execution_count": 46,
   "id": "dc624a2e",
   "metadata": {
    "id": "dc624a2e",
    "outputId": "0ff2666d-3053-4525-a527-d78fd4b6fd3d"
   },
   "outputs": [
    {
     "name": "stdout",
     "output_type": "stream",
     "text": [
      "Found 756 validated image filenames belonging to 2 classes.\n",
      "Found 190 validated image filenames belonging to 2 classes.\n",
      "Epoch 1/10\n",
      "23/23 [==============================] - 742s 32s/step - loss: 4.4980 - accuracy: 0.6616 - val_loss: 0.6891 - val_accuracy: 0.7500\n",
      "Epoch 2/10\n",
      "23/23 [==============================] - 822s 35s/step - loss: 0.6016 - accuracy: 0.7666 - val_loss: 0.5948 - val_accuracy: 0.7437\n",
      "Epoch 3/10\n",
      "23/23 [==============================] - 780s 34s/step - loss: 0.5677 - accuracy: 0.7652 - val_loss: 0.5971 - val_accuracy: 0.7437\n",
      "Epoch 4/10\n",
      "23/23 [==============================] - 766s 33s/step - loss: 0.5505 - accuracy: 0.7666 - val_loss: 0.5919 - val_accuracy: 0.7500\n",
      "Epoch 5/10\n",
      "23/23 [==============================] - 793s 34s/step - loss: 0.5950 - accuracy: 0.7624 - val_loss: 0.6520 - val_accuracy: 0.7375\n",
      "Epoch 6/10\n",
      "23/23 [==============================] - 800s 35s/step - loss: 0.6190 - accuracy: 0.7500 - val_loss: 0.5738 - val_accuracy: 0.7625\n",
      "Epoch 7/10\n",
      "23/23 [==============================] - 799s 35s/step - loss: 0.5601 - accuracy: 0.7569 - val_loss: 0.5686 - val_accuracy: 0.7437\n",
      "Epoch 8/10\n",
      "23/23 [==============================] - 794s 34s/step - loss: 0.5439 - accuracy: 0.7693 - val_loss: 0.5383 - val_accuracy: 0.7688\n",
      "Epoch 9/10\n",
      "23/23 [==============================] - 820s 36s/step - loss: 0.5589 - accuracy: 0.7638 - val_loss: 0.5671 - val_accuracy: 0.7500\n",
      "Epoch 10/10\n",
      "23/23 [==============================] - 742s 32s/step - loss: 0.5498 - accuracy: 0.7638 - val_loss: 0.5417 - val_accuracy: 0.7688\n"
     ]
    },
    {
     "data": {
      "text/plain": [
       "<keras.callbacks.History at 0x1fe5e731430>"
      ]
     },
     "execution_count": 46,
     "metadata": {},
     "output_type": "execute_result"
    }
   ],
   "source": [
    "# Définition des chemins d'accès aux images\n",
    "image_dir = r'C:\\Users\\nico_\\Desktop\\IA School M2\\Fast Fashion\\visuelle2\\images\\images1000'\n",
    "\n",
    "# Division des données en ensembles d'entraînement et de test\n",
    "train_df, test_df = train_test_split(df, test_size=0.2, random_state=42)\n",
    "\n",
    "# Configuration du générateur d'images\n",
    "datagen = ImageDataGenerator(\n",
    "    preprocessing_function=preprocess_input\n",
    ")\n",
    "\n",
    "# Chargement des images à partir du générateur\n",
    "train_generator = datagen.flow_from_dataframe(\n",
    "    dataframe=train_df,\n",
    "    directory=image_dir,\n",
    "    x_col=\"image_path\",\n",
    "    y_col=\"matiere_polluante\",\n",
    "    target_size=(224, 224),\n",
    "    batch_size=32,\n",
    "    class_mode=\"binary\",\n",
    "    shuffle=True,\n",
    "    seed=42\n",
    ")\n",
    "\n",
    "validation_generator = datagen.flow_from_dataframe(\n",
    "    dataframe=test_df,\n",
    "    directory=image_dir,\n",
    "    x_col=\"image_path\",\n",
    "    y_col=\"matiere_polluante\",\n",
    "    target_size=(224, 224),\n",
    "    batch_size=32,\n",
    "    class_mode=\"binary\",\n",
    "    shuffle=True,\n",
    "    seed=42\n",
    ")\n",
    "\n",
    "# Chargement du modèle VGG16 sans la dernière couche fully-connected\n",
    "base_model = VGG16(weights=\"imagenet\", include_top=False)\n",
    "\n",
    "# Ajout d'une nouvelle couche fully-connected pour la classification binaire\n",
    "x = base_model.output\n",
    "x = GlobalAveragePooling2D()(x)\n",
    "x = Dense(64, activation=\"relu\")(x)\n",
    "predictions = Dense(1, activation=\"sigmoid\")(x)\n",
    "\n",
    "# Définition du modèle final\n",
    "model = Model(inputs=base_model.input, outputs=predictions)\n",
    "\n",
    "# Compilation du modèle\n",
    "model.compile(optimizer=\"adam\", loss=\"binary_crossentropy\", metrics=[\"accuracy\"])\n",
    "\n",
    "# Entraînement du modèle\n",
    "model.fit(\n",
    "    train_generator,\n",
    "    steps_per_epoch=train_generator.samples // train_generator.batch_size,\n",
    "    validation_data=validation_generator,\n",
    "    validation_steps=validation_generator.samples // validation_generator.batch_size,\n",
    "    epochs=10\n",
    ")\n"
   ]
  },
  {
   "cell_type": "code",
   "execution_count": 48,
   "id": "qmx8EhWE1_pr",
   "metadata": {
    "id": "qmx8EhWE1_pr"
   },
   "outputs": [
    {
     "name": "stdout",
     "output_type": "stream",
     "text": [
      "6/6 [==============================] - 58s 10s/step - loss: 0.5624 - accuracy: 0.7526\n",
      "Test Loss: 0.562414288520813\n",
      "Test Accuracy: 0.7526316046714783\n"
     ]
    }
   ],
   "source": [
    "# Score du modèle\n",
    "score = model.evaluate(validation_generator)\n",
    "print(\"Test Loss:\", score[0])\n",
    "print(\"Test Accuracy:\", score[1])"
   ]
  },
  {
   "cell_type": "markdown",
   "id": "cd9194e0",
   "metadata": {
    "id": "7eW4m9AH2HhE"
   },
   "source": [
    "# Test image"
   ]
  },
  {
   "cell_type": "code",
   "execution_count": 50,
   "id": "dca98894",
   "metadata": {},
   "outputs": [
    {
     "name": "stdout",
     "output_type": "stream",
     "text": [
      "1/1 [==============================] - 4s 4s/step\n",
      "L'image contient de la matière polluante.\n"
     ]
    }
   ],
   "source": [
    "from tensorflow.keras.preprocessing import image\n",
    "\n",
    "# Chemin d'accès à l'image à prédire\n",
    "img_path = r\"C:\\Users\\nico_\\Desktop\\IA School M2\\Fast Fashion\\visuelle2\\images\\vest_jean.jpg\"\n",
    "\n",
    "# Chargement de l'image\n",
    "img = image.load_img(img_path, target_size=(224, 224))\n",
    "\n",
    "# Prétraitement de l'image\n",
    "img = image.img_to_array(img)\n",
    "img = np.expand_dims(img, axis=0)\n",
    "img = preprocess_input(img)\n",
    "\n",
    "# Prédiction de la classe de l'image\n",
    "prediction = model.predict(img)\n",
    "\n",
    "# Affichage de la prédiction\n",
    "if prediction == 0:\n",
    "    print(\"L'image ne contient pas de matière polluante.\")\n",
    "else:\n",
    "    print(\"L'image contient de la matière polluante.\")"
   ]
  }
 ],
 "metadata": {
  "colab": {
   "provenance": []
  },
  "kernelspec": {
   "display_name": "Python 3 (ipykernel)",
   "language": "python",
   "name": "python3"
  },
  "language_info": {
   "codemirror_mode": {
    "name": "ipython",
    "version": 3
   },
   "file_extension": ".py",
   "mimetype": "text/x-python",
   "name": "python",
   "nbconvert_exporter": "python",
   "pygments_lexer": "ipython3",
   "version": "3.9.13"
  }
 },
 "nbformat": 4,
 "nbformat_minor": 5
}
