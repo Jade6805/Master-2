{
 "cells": [
  {
   "cell_type": "markdown",
   "id": "b8c16731",
   "metadata": {},
   "source": [
    "<h1 align=\"center\">Programmation en classe avec Python - Partiel</h1>"
   ]
  },
  {
   "cell_type": "markdown",
   "id": "cfd55eb8",
   "metadata": {},
   "source": [
    "# Création de la classe Etudiant "
   ]
  },
  {
   "cell_type": "code",
   "execution_count": 1,
   "id": "c449890b",
   "metadata": {},
   "outputs": [],
   "source": [
    "class Etudiant: \n",
    "    #Définission des attributs de la classe Etudiant\n",
    "    def __init__(self, nom, prenom, identifiant, notes, nationalite):\n",
    "        self._nom = str(nom)\n",
    "        self._prenom = str(prenom)\n",
    "        self._identifiant = identifiant\n",
    "        self._notes = [notes]\n",
    "        self._nationalite = nationalite\n",
    "        \n",
    "    # définission des getters et des setters pour chaque attribut\n",
    "    def getNom (self):\n",
    "        return self._nom\n",
    "    def getPrenom (self):\n",
    "        return self._prenom\n",
    "    def getIdentifiant (self):\n",
    "        return self._identifiant\n",
    "    def getNotes (self):\n",
    "        return self._notes\n",
    "    def getNationalite (self):\n",
    "        return self._nationalite\n",
    "    \n",
    "    def setNom (self,nom):\n",
    "        self._nom = nom\n",
    "    def setPrenom (self, prenom):\n",
    "        self._prenom = prenom\n",
    "    def setIdentifiant (self, identifiant):\n",
    "        self._identifiant = identifiant\n",
    "    def setNotes (self, notes):\n",
    "        self._notes = notes\n",
    "    def setNationalite (self, nationalite):\n",
    "        self._nationalite = nationalite   \n",
    "    \n",
    "    # Ajout de méthodes concernant les notes plus précisement\n",
    "    def ajouter_note(self, note):\n",
    "        self._notes.append(note) \n",
    "    \n",
    "    def afficher_moyenne(self):\n",
    "        somme = sum(self._notes)\n",
    "        nb_elements = len(self._notes)\n",
    "        moyenne = somme / nb_elements\n",
    "        print (\"La moyenne de \",self._prenom, \" est de \",format(moyenne, '.2f'))\n",
    "        \n",
    "    def afficher_note(self):\n",
    "        print (\"Les notes de \", self._prenom, \"sont: \", self._notes)"
   ]
  },
  {
   "cell_type": "markdown",
   "id": "14ae77c3",
   "metadata": {},
   "source": [
    "# Création d'une classe promotion "
   ]
  },
  {
   "cell_type": "code",
   "execution_count": 2,
   "id": "17f1ec64",
   "metadata": {},
   "outputs": [],
   "source": [
    "class Promotion:\n",
    "    #Définission des attributs de la classe Promotion\n",
    "    def __init__(self, nomdepromotion, nom, prenom, identifiant, notes, nationalite):\n",
    "        self._nomdepromotion = nomdepromotion\n",
    "        self._etudiants = Etudiant(nom, prenom, identifiant, notes, nationalite)\n",
    "    \n",
    "    #Définission des getters de la classe Promotion servant au contrôle du code\n",
    "    def getNomdepromotion (self):\n",
    "        return self._nomdepromotion\n",
    "    def getEtudiants(self):\n",
    "        return self._etudiants \n",
    "\n",
    "    #Ajout de méthodes pour ajouter, retirer des étudiants à la classe et calculer la moyenne de la promo\n",
    "    def ajouter_etudiant(self,nom, prenom, identifiant, notes, nationalite):\n",
    "        newetudiant = Etudiant(nom, prenom, identifiant, notes, nationalite)\n",
    "        self._etudiants = [self._etudiants, newetudiant]\n",
    "        \n",
    "    def retirer_etudiant(self, newetudiant):\n",
    "        self._etudiants = self._etudiants - newetudiant \n",
    "    \n",
    "    def afficher_moyenne_promo(self):\n",
    "        i=0\n",
    "        liste=[]\n",
    "        for i in range (self._etudiants):\n",
    "            somme = sum(self._etudiants._notes)\n",
    "            nb_elements = len(self._etudiants._notes)\n",
    "            moyenne = somme / nb_elements\n",
    "            liste.append(moyenne)\n",
    "          \n",
    "        moyenne_etudiant= sum(liste)\n",
    "        nb_etudiant = len(self._etudiants)\n",
    "        moyenne_finale = moyenne_etudiant / nb_etudiant\n",
    "        print (\"La moyenne de la promotion est de \",format(moyenne_finale, '.2f'))"
   ]
  },
  {
   "cell_type": "markdown",
   "id": "d136f706",
   "metadata": {},
   "source": [
    "# Création de plusieurs instances de la classe Etudiant"
   ]
  },
  {
   "cell_type": "code",
   "execution_count": 3,
   "id": "d05541ce",
   "metadata": {},
   "outputs": [],
   "source": [
    "# Création de plusieurs instances dnas la classe Etudiant avec tous les paramètres nécessaires"
   ]
  },
  {
   "cell_type": "code",
   "execution_count": 4,
   "id": "c83a1686",
   "metadata": {},
   "outputs": [],
   "source": [
    "Elsa = Etudiant(\"Martin\", \"Elsa\", 12435, 12, \"norvégienne\")\n",
    "Steph = Etudiant (\"Dupond\",\"Steph\", 13254, 1, \"Allemand\")\n",
    "Jean = Etudiant (\"Fred\", \"Jean\", 21435, 18, \"Dannois\")\n",
    "Pierre = Etudiant (\"Dupont\", \"Pierre\", 23431, 13, \"Français\")\n",
    "Sophie = Etudiant (\"Marc\", \"Sophie\", 34521, 11, \"Française\")\n"
   ]
  },
  {
   "cell_type": "markdown",
   "id": "06bea005",
   "metadata": {},
   "source": [
    "## Test des différentes méthodes"
   ]
  },
  {
   "cell_type": "code",
   "execution_count": 5,
   "id": "b2404d33",
   "metadata": {},
   "outputs": [],
   "source": [
    "# Test des méthodes getters "
   ]
  },
  {
   "cell_type": "code",
   "execution_count": 6,
   "id": "1178c06f",
   "metadata": {},
   "outputs": [
    {
     "data": {
      "text/plain": [
       "'Martin'"
      ]
     },
     "execution_count": 6,
     "metadata": {},
     "output_type": "execute_result"
    }
   ],
   "source": [
    "Elsa.getNom()"
   ]
  },
  {
   "cell_type": "code",
   "execution_count": 7,
   "id": "9f3867ba",
   "metadata": {},
   "outputs": [
    {
     "data": {
      "text/plain": [
       "[12]"
      ]
     },
     "execution_count": 7,
     "metadata": {},
     "output_type": "execute_result"
    }
   ],
   "source": [
    "Elsa.getNotes()"
   ]
  },
  {
   "cell_type": "code",
   "execution_count": 8,
   "id": "a7893f86",
   "metadata": {},
   "outputs": [
    {
     "data": {
      "text/plain": [
       "12435"
      ]
     },
     "execution_count": 8,
     "metadata": {},
     "output_type": "execute_result"
    }
   ],
   "source": [
    "Elsa.getIdentifiant()"
   ]
  },
  {
   "cell_type": "code",
   "execution_count": 9,
   "id": "988fedf3",
   "metadata": {},
   "outputs": [],
   "source": [
    "# Test de la méthode affichage des notes sous forme de liste"
   ]
  },
  {
   "cell_type": "code",
   "execution_count": 10,
   "id": "9d624892",
   "metadata": {
    "scrolled": true
   },
   "outputs": [
    {
     "name": "stdout",
     "output_type": "stream",
     "text": [
      "Les notes de  Steph sont:  [1]\n"
     ]
    }
   ],
   "source": [
    "Steph.afficher_note()"
   ]
  },
  {
   "cell_type": "code",
   "execution_count": 11,
   "id": "9fc8e2c6",
   "metadata": {},
   "outputs": [],
   "source": [
    "# Test de la méthode d'ajout de notes - affichage des notes actualisée - de la moyenne"
   ]
  },
  {
   "cell_type": "code",
   "execution_count": 12,
   "id": "c6e468f9",
   "metadata": {
    "scrolled": false
   },
   "outputs": [],
   "source": [
    "Elsa.ajouter_note(10)\n",
    "Elsa.ajouter_note(15)"
   ]
  },
  {
   "cell_type": "code",
   "execution_count": 13,
   "id": "4ea7acf5",
   "metadata": {},
   "outputs": [
    {
     "data": {
      "text/plain": [
       "[12, 10, 15]"
      ]
     },
     "execution_count": 13,
     "metadata": {},
     "output_type": "execute_result"
    }
   ],
   "source": [
    "Elsa.getNotes()"
   ]
  },
  {
   "cell_type": "code",
   "execution_count": 14,
   "id": "08cb45c8",
   "metadata": {},
   "outputs": [
    {
     "name": "stdout",
     "output_type": "stream",
     "text": [
      "La moyenne de  Elsa  est de  12.33\n"
     ]
    }
   ],
   "source": [
    "Elsa.afficher_moyenne()"
   ]
  },
  {
   "cell_type": "markdown",
   "id": "28cbd17e",
   "metadata": {},
   "source": [
    "# Ajout à une instance de la classe Promotion"
   ]
  },
  {
   "cell_type": "code",
   "execution_count": 15,
   "id": "d7600ea5",
   "metadata": {
    "scrolled": false
   },
   "outputs": [],
   "source": [
    "Promotion1 = Promotion (\"Promotion d'été\" ,\"Martin\", \"Elsa\", 12435, 12, \"norvégienne\" )"
   ]
  },
  {
   "cell_type": "code",
   "execution_count": 16,
   "id": "c2bad342",
   "metadata": {
    "scrolled": true
   },
   "outputs": [],
   "source": [
    "Promotion1.ajouter_etudiant(\"Dupond\",\"Steph\", 13254, 1, \"Allemand\")"
   ]
  },
  {
   "cell_type": "code",
   "execution_count": 17,
   "id": "bc61506b",
   "metadata": {
    "scrolled": true
   },
   "outputs": [
    {
     "data": {
      "text/plain": [
       "[<__main__.Etudiant at 0x7f8e89fa2be0>, <__main__.Etudiant at 0x7f8e89fa22e0>]"
      ]
     },
     "execution_count": 17,
     "metadata": {},
     "output_type": "execute_result"
    }
   ],
   "source": [
    "Promotion1.getEtudiants()"
   ]
  },
  {
   "cell_type": "code",
   "execution_count": 18,
   "id": "0b7267b2",
   "metadata": {},
   "outputs": [
    {
     "data": {
      "text/plain": [
       "\"Promotion d'été\""
      ]
     },
     "execution_count": 18,
     "metadata": {},
     "output_type": "execute_result"
    }
   ],
   "source": [
    "Promotion1.getNomdepromotion()"
   ]
  },
  {
   "cell_type": "code",
   "execution_count": 19,
   "id": "8c5daff7",
   "metadata": {},
   "outputs": [],
   "source": [
    "#Promotion1.afficher_moyenne_promo()"
   ]
  },
  {
   "cell_type": "code",
   "execution_count": null,
   "id": "ce55115e",
   "metadata": {},
   "outputs": [],
   "source": []
  }
 ],
 "metadata": {
  "kernelspec": {
   "display_name": "Python 3 (ipykernel)",
   "language": "python",
   "name": "python3"
  },
  "language_info": {
   "codemirror_mode": {
    "name": "ipython",
    "version": 3
   },
   "file_extension": ".py",
   "mimetype": "text/x-python",
   "name": "python",
   "nbconvert_exporter": "python",
   "pygments_lexer": "ipython3",
   "version": "3.9.13"
  }
 },
 "nbformat": 4,
 "nbformat_minor": 5
}
